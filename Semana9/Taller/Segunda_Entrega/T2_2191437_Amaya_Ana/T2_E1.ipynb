{
  "metadata": {
    "language_info": {
      "codemirror_mode": {
        "name": "python",
        "version": 3
      },
      "file_extension": ".py",
      "mimetype": "text/x-python",
      "name": "python",
      "nbconvert_exporter": "python",
      "pygments_lexer": "ipython3",
      "version": "3.8"
    },
    "kernelspec": {
      "name": "python",
      "display_name": "Pyolite",
      "language": "python"
    }
  },
  "nbformat_minor": 4,
  "nbformat": 4,
  "cells": [
    {
      "cell_type": "code",
      "source": "# Primero se importan las librerias a usar\nimport numpy as np\nimport sympy as sp\nimport heapq as he\nimport math as mt\nfrom math import pi,cos,sin\nimport pandas as pd\nimport matplotlib.pyplot as plt",
      "metadata": {
        "trusted": true
      },
      "execution_count": 26,
      "outputs": []
    },
    {
      "cell_type": "code",
      "source": "# EJERCICIO 1\n\n#Datos\nCodigo = \"2191437\"\n\n#Factor de carga de la distribución de correas y los materiales \nX = sum([int(i) for i in Codigo])\n\n#Factor de amplitud debido a carga viva y de viento\nY = X/3\n\n#Carga máxima W distribuida en Kn/m\nW = (0.005*X) + (0.01*Y)\n\n#la tensión a la que se someterá el cable que pende del extremo B\nP = 0.05*X\nAngulo = pi/4\n\n#Las longitudes de aplicación de cada carga distribuida m \nL1 = 0.05*X\nL2 = L1*1.5\nL3 = 0.5*L1\nL4 = L1 + L2 + L3 \n\n#Esfuerzo admisible Mpa\nEsf_adm = 250",
      "metadata": {
        "trusted": true
      },
      "execution_count": 7,
      "outputs": []
    },
    {
      "cell_type": "code",
      "source": "# Se van a puntualizar las cargas distribuidas\n\n#Carga triángular puntualizada kN \n#Posición m\nWt1 = (L1*W)/2\nX1 = L1 - L1/3\n\n#Carga cuadrada puntualizada kN \n#Posición m\nWc = L2*W\nX2 = L1 + L2/2 \n\n#Carga triángular puntualizada kN (numero dos)\n#posición m\nWt2 = (L3*W)/2\nX3 = L1 + L2 + L3/3 \n\n# Definir simbolos\nAy, Ma, X = sp.symbols(\"Ay Ma X\")\n\n# Calcular reacciones\nSuma_Ma = Ma - X1*Wt1 - X2*Wc - X3*Wt2 + L4*P*sin(Angulo)\nEc_Ma = sp.Eq (Suma_Ma,0)\nMomento = sp.solve(Ec_Ma)\n\nFy = Ay -Wt1 - Wc - Wt2 + P*sin(Angulo)\nEc_Fy = sp.Eq(Fy,0)\nReaccion = sp.solve(Ec_Fy)",
      "metadata": {
        "trusted": true
      },
      "execution_count": 11,
      "outputs": []
    },
    {
      "cell_type": "code",
      "source": "# Se imprimen los resultados de Ma y Ay\n\nprint(f\"Ma = {Momento[0]} kN-m\")\nprint(f\"Ay = {Reaccion[0]} kN\")",
      "metadata": {
        "trusted": true
      },
      "execution_count": 12,
      "outputs": [
        {
          "name": "stdout",
          "text": "Ma = -2.37962976363745 kN-m\nAy = -0.271156654601839 kN\n",
          "output_type": "stream"
        }
      ]
    },
    {
      "cell_type": "code",
      "source": "# Funcion de carga para el tramo 1\nW1 = ((W-0)/(L1-0))*X \nW1",
      "metadata": {
        "trusted": true
      },
      "execution_count": 14,
      "outputs": [
        {
          "execution_count": 14,
          "output_type": "execute_result",
          "data": {
            "text/plain": "0.166666666666667*X",
            "text/latex": "$\\displaystyle 0.166666666666667 X$"
          },
          "metadata": {}
        }
      ]
    },
    {
      "cell_type": "code",
      "source": "# Funcion de carga para el tramo 3\nW3 = ((0-W)/(L3-0))*X + W\nW3",
      "metadata": {
        "trusted": true
      },
      "execution_count": 15,
      "outputs": [
        {
          "execution_count": 15,
          "output_type": "execute_result",
          "data": {
            "text/plain": "0.225 - 0.333333333333333*X",
            "text/latex": "$\\displaystyle 0.225 - 0.333333333333333 X$"
          },
          "metadata": {}
        }
      ]
    },
    {
      "cell_type": "code",
      "source": "# Calculo de fuerza cortante para el tramo 1 (0 <= X <= L1)\nV1 = -sp.integrate(W1,X) + Reaccion[0]\nV1_L1 = V1.subs(X,L1)\nV1",
      "metadata": {
        "trusted": true
      },
      "execution_count": 17,
      "outputs": [
        {
          "execution_count": 17,
          "output_type": "execute_result",
          "data": {
            "text/plain": "-0.0833333333333333*X**2 - 0.271156654601839",
            "text/latex": "$\\displaystyle - 0.0833333333333333 X^{2} - 0.271156654601839$"
          },
          "metadata": {}
        }
      ]
    },
    {
      "cell_type": "code",
      "source": "# Calculo de momento para el tramo 1 (0 <= X <= L1)\nM1 = sp.integrate(V1,X)- Momento[0]\nM1_0 = M1.subs(X,0)\nM1_L1 = M1.subs(X,L1)\nM1",
      "metadata": {
        "trusted": true
      },
      "execution_count": 18,
      "outputs": [
        {
          "execution_count": 18,
          "output_type": "execute_result",
          "data": {
            "text/plain": "-0.0277777777777778*X**3 - 0.271156654601839*X + 2.37962976363745",
            "text/latex": "$\\displaystyle - 0.0277777777777778 X^{3} - 0.271156654601839 X + 2.37962976363745$"
          },
          "metadata": {}
        }
      ]
    },
    {
      "cell_type": "code",
      "source": "# Calculo de fuerza cortante para el tramo 2 (0 <= X <= L2)\nV2 = -sp.integrate(W,X) + V1_L1\nV2_L2 = V2.subs(X,L2)\nV2",
      "metadata": {
        "trusted": true
      },
      "execution_count": 20,
      "outputs": [
        {
          "execution_count": 20,
          "output_type": "execute_result",
          "data": {
            "text/plain": "-0.225*X - 0.423031654601839",
            "text/latex": "$\\displaystyle - 0.225 X - 0.423031654601839$"
          },
          "metadata": {}
        }
      ]
    },
    {
      "cell_type": "code",
      "source": "# Calculo de momento para el tramo 2 (0 <= X <= L2)\nM2 = sp.integrate(V2,X) + M1_L1\nM2_L2 = M2.subs(X,L2)\nM2",
      "metadata": {
        "trusted": true
      },
      "execution_count": 21,
      "outputs": [
        {
          "execution_count": 21,
          "output_type": "execute_result",
          "data": {
            "text/plain": "-0.1125*X**2 - 0.423031654601839*X + 1.94522452992497",
            "text/latex": "$\\displaystyle - 0.1125 X^{2} - 0.423031654601839 X + 1.94522452992497$"
          },
          "metadata": {}
        }
      ]
    },
    {
      "cell_type": "code",
      "source": "# Calculo de fuerza cortante para el tramo 3 (0 <= X <= L3)\nV3 = -sp.integrate(W3,X) + V2_L2\nV3_L3 = V3.subs(X,L3)\nV3",
      "metadata": {
        "trusted": true
      },
      "execution_count": 22,
      "outputs": [
        {
          "execution_count": 22,
          "output_type": "execute_result",
          "data": {
            "text/plain": "0.166666666666667*X**2 - 0.225*X - 0.878656654601839",
            "text/latex": "$\\displaystyle 0.166666666666667 X^{2} - 0.225 X - 0.878656654601839$"
          },
          "metadata": {}
        }
      ]
    },
    {
      "cell_type": "code",
      "source": "# Calculo de momento para el tramo 3 (0 <= X <= L3)\nM3 = sp.integrate(V3,X) + M2_L2\nM3_L3 = M3.subs(X,L3)\nM3",
      "metadata": {
        "trusted": true
      },
      "execution_count": 23,
      "outputs": [
        {
          "execution_count": 23,
          "output_type": "execute_result",
          "data": {
            "text/plain": "0.0555555555555556*X**3 - 0.1125*X**2 - 0.878656654601839*X + 0.627265116856243",
            "text/latex": "$\\displaystyle 0.0555555555555556 X^{3} - 0.1125 X^{2} - 0.878656654601839 X + 0.627265116856243$"
          },
          "metadata": {}
        }
      ]
    },
    {
      "cell_type": "code",
      "source": "#Grafica para el diagrama de V\nplt.style.use('ggplot')\n\n#Longitud de la viga\nL = np.linspace(0,L4,2000)\n\n#Convertir las expresiones de los tramos para que se puedan evaluar matematicamente \nTr1 = sp.lambdify(X, V1)(L[L < L1])\nTr2 = sp.lambdify(X, V2)(L[(L >= L1) & (L < L1+L2)] - L1) \nTr3 = sp.lambdify(X, V3)(L[(L >= L1+L2) & (L <= L4)] - L1 - L2)\n\n#Crear la grafica para el diagrama\nplt.plot(L, np.concatenate((Tr1, Tr2, Tr3)), color = \"r\")\nplt.fill_between(L, np.concatenate((Tr1, Tr2, Tr3)), color = \"m\", alpha=0.25)\nplt.xticks(np.linspace(0,3.15,10))\n\n#Generar los ejes coordenados X y Y\nplt.axvline(0, color=\"black\")\nplt.axhline(0, color=\"black\")\n\n#Escribir el nombre de los ejes coordenados X y Y\nplt.xlabel(\"Longitud [m]\")\nplt.ylabel(\"Fuerza Cortante [kN]\")\n\n#Colocar el titulo de la grafica\nplt.title(\"Diagrama De Fuerza Cortante\")\n\n#Escribir la fuerza cortante maxima y donde ocurre\nprint(f\"La fuerza cortante máxima es de {round(V3_L3,4)} kN, a una distancia de {L4} m.\")",
      "metadata": {
        "trusted": true
      },
      "execution_count": 27,
      "outputs": [
        {
          "name": "stdout",
          "text": "La fuerza cortante máxima es de -0.9546 kN, a una distancia de 4.050000000000001 m.\n",
          "output_type": "stream"
        }
      ]
    },
    {
      "cell_type": "code",
      "source": "# Diagrama para el momento flector\nplt.style.use('ggplot')\n\n#Longitud de la viga\nL = np.linspace(0,L4,2000)\n\n#Convertir las expresiones de los tramos para que se puedan evaluar matematicamente\nTr1 = sp.lambdify(X, M1)(L[L < L1])\nTr2 = sp.lambdify(X, M2)(L[(L >= L1) & (L < L1+L2)] - L1) \nTr3 = sp.lambdify(X, M3)(L[(L >= L1+L2) & (L <= L4)] - L1 - L2)\n\n#Crear la grafica para el diagrama\nplt.plot(L, np.concatenate((Tr1, Tr2, Tr3)), color = \"r\")\nplt.fill_between(L, np.concatenate((Tr1, Tr2, Tr3)), color = \"m\", alpha=0.25)\nplt.xticks(np.linspace(0,3.15,10))\n\n#Generar los ejes coordenados X y Y\nplt.axvline(0, color=\"black\")\nplt.axhline(0, color=\"black\")\n\n#Escribir el nombre de los ejes coordenados X y Y\nplt.xlabel(\"Longitud [m]\")\nplt.ylabel(\"Momento [kN-m]\")\n\n#Colocar el titulo de la grafica\nplt.title(\"Diagrama De Momento Flector\")\n\n#Escribir el momento flector maximo y donde ocurre\nprint(f\"El momento flector máximo es de {round(M1_0,4)} kN-m y ocurre en el empotramiento.\")",
      "metadata": {
        "trusted": true
      },
      "execution_count": 28,
      "outputs": [
        {
          "name": "stdout",
          "text": "El momento flector máximo es de 2.3796 kN-m y ocurre en el empotramiento.\n",
          "output_type": "stream"
        }
      ]
    },
    {
      "cell_type": "code",
      "source": "",
      "metadata": {
        "trusted": true
      },
      "execution_count": 29,
      "outputs": []
    },
    {
      "cell_type": "code",
      "source": "",
      "metadata": {},
      "execution_count": null,
      "outputs": []
    }
  ]
}